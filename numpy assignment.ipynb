{
 "cells": [
  {
   "cell_type": "markdown",
   "metadata": {},
   "source": [
    "Write a function so that the columns of the output matrix are powers of the input \n",
    " vector. \n",
    " \n",
    "The order of the powers is determined by the increasing boolean argument. Specifically, when increasing is False, the i-th output column is the input vector raised element-wise to the power of N - i - 1. \n",
    " \n",
    " "
   ]
  },
  {
   "cell_type": "code",
   "execution_count": 36,
   "metadata": {},
   "outputs": [],
   "source": [
    "import numpy as np\n",
    "def vander(arr,n,increasing):\n",
    "    v=[]\n",
    "    if increasing==True:\n",
    "        v=[j**i for j in arr for i in range(0,n)  ]\n",
    "        v=np.array(v)\n",
    "        v=v.reshape(len(arr),n)\n",
    "        return v\n",
    "    elif  increasing==False:\n",
    "        v=[j**i for j in arr for i in range(n-1,-1,-1)  ]\n",
    "        v=np.array(v)\n",
    "        v=v.reshape(len(arr),n)\n",
    "        return v"
   ]
  },
  {
   "cell_type": "code",
   "execution_count": 37,
   "metadata": {},
   "outputs": [
    {
     "data": {
      "text/plain": [
       "array([[  1,   1,   1,   1],\n",
       "       [  8,   4,   2,   1],\n",
       "       [ 64,  16,   4,   1],\n",
       "       [216,  36,   6,   1]])"
      ]
     },
     "execution_count": 37,
     "metadata": {},
     "output_type": "execute_result"
    }
   ],
   "source": [
    "vander([1,2,4,6],4,False)  # vander function accepts list,no of columns you want in output,increasing (either true or false)"
   ]
  },
  {
   "cell_type": "code",
   "execution_count": 38,
   "metadata": {},
   "outputs": [
    {
     "data": {
      "text/plain": [
       "array([[ 1,  1,  1],\n",
       "       [ 1,  2,  4],\n",
       "       [ 1,  3,  9],\n",
       "       [ 1,  4, 16]])"
      ]
     },
     "execution_count": 38,
     "metadata": {},
     "output_type": "execute_result"
    }
   ],
   "source": [
    "vander([1,2,3,4],3,True)"
   ]
  },
  {
   "cell_type": "markdown",
   "metadata": {},
   "source": [
    " Write a function to find moving average in an array over a window:          \n",
    "        \n",
    "Test it over [3, 5, 7, 2, 8, 10, 11, 65, 72, 81, 99, 100, 150] and window of 3. "
   ]
  },
  {
   "cell_type": "code",
   "execution_count": 7,
   "metadata": {},
   "outputs": [],
   "source": [
    "def movavg():\n",
    "    n=int(input(\" Enter how many numbers you want to enter n= \"))\n",
    "    k=int(input(\" Enter the window Size for calculating the moving average k= \"))\n",
    "\n",
    "    l=[]        ##Variable initalisation\n",
    "    f=[]\n",
    "    cnt=sum=0\n",
    "    r=n-k+1\n",
    "    c=r*k\n",
    "    o=[]\n",
    "    \n",
    "    for i in range(n):\n",
    "        print(\"\\n Enter Input\",i+1,\">\",end=\" \")\n",
    "        l.append(int(input()))\n",
    "        \n",
    "        \n",
    "    for i,j in enumerate(l):\n",
    "        sum=0\n",
    "        \n",
    "        for x in range(k):\n",
    "            \n",
    "            if cnt<c:\n",
    "                sum = sum+l[i+x]\n",
    "                cnt=cnt+1\n",
    "                o.append(sum/k)\n",
    "                \n",
    "    ind=1\n",
    "    for i,j  in enumerate(o):\n",
    "        if(i+1)%k==0:\n",
    "            print(\"y\",ind,\"=\",j)\n",
    "            ind=ind+1\n",
    "    "
   ]
  },
  {
   "cell_type": "code",
   "execution_count": 9,
   "metadata": {},
   "outputs": [
    {
     "name": "stdout",
     "output_type": "stream",
     "text": [
      " Enter how many numbers you want to enter n= 13\n",
      " Enter the window Size for calculating the moving average k= 3\n",
      "\n",
      " Enter Input 1 > 3\n",
      "\n",
      " Enter Input 2 > 5\n",
      "\n",
      " Enter Input 3 > 7\n",
      "\n",
      " Enter Input 4 > 2\n",
      "\n",
      " Enter Input 5 > 8\n",
      "\n",
      " Enter Input 6 > 10\n",
      "\n",
      " Enter Input 7 > 11\n",
      "\n",
      " Enter Input 8 > 65\n",
      "\n",
      " Enter Input 9 > 72\n",
      "\n",
      " Enter Input 10 > 81\n",
      "\n",
      " Enter Input 11 > 99\n",
      "\n",
      " Enter Input 12 > 100\n",
      "\n",
      " Enter Input 13 > 150\n",
      "y 1 = 5.0\n",
      "y 2 = 4.666666666666667\n",
      "y 3 = 5.666666666666667\n",
      "y 4 = 6.666666666666667\n",
      "y 5 = 9.666666666666666\n",
      "y 6 = 28.666666666666668\n",
      "y 7 = 49.333333333333336\n",
      "y 8 = 72.66666666666667\n",
      "y 9 = 84.0\n",
      "y 10 = 93.33333333333333\n",
      "y 11 = 116.33333333333333\n"
     ]
    }
   ],
   "source": [
    "movavg()"
   ]
  }
 ],
 "metadata": {
  "kernelspec": {
   "display_name": "Python 3",
   "language": "python",
   "name": "python3"
  },
  "language_info": {
   "codemirror_mode": {
    "name": "ipython",
    "version": 3
   },
   "file_extension": ".py",
   "mimetype": "text/x-python",
   "name": "python",
   "nbconvert_exporter": "python",
   "pygments_lexer": "ipython3",
   "version": "3.7.4"
  }
 },
 "nbformat": 4,
 "nbformat_minor": 2
}
